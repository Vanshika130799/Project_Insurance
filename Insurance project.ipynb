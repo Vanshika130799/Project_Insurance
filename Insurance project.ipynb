{
  "nbformat": 4,
  "nbformat_minor": 5,
  "metadata": {
    "kernelspec": {
      "display_name": "Python 3",
      "language": "python",
      "name": "python3"
    },
    "language_info": {
      "codemirror_mode": {
        "name": "ipython",
        "version": 3
      },
      "file_extension": ".py",
      "mimetype": "text/x-python",
      "name": "python",
      "nbconvert_exporter": "python",
      "pygments_lexer": "ipython3",
      "version": "3.8.8"
    },
    "colab": {
      "name": "project_shilpa.ipynb",
      "provenance": []
    }
  },
  "cells": [
    {
      "cell_type": "code",
      "metadata": {
        "id": "63767b42"
      },
      "source": [
        "from pyspark.sql import SparkSession\n",
        "spark= SparkSession.builder.appName('Insurance').getOrCreate()"
      ],
      "id": "63767b42",
      "execution_count": null,
      "outputs": []
    },
    {
      "cell_type": "code",
      "metadata": {
        "id": "9c6f45f7"
      },
      "source": [
        "from pyspark.ml.regression import LinearRegression"
      ],
      "id": "9c6f45f7",
      "execution_count": null,
      "outputs": []
    },
    {
      "cell_type": "code",
      "metadata": {
        "id": "320141bc"
      },
      "source": [
        "dataset=spark.read.csv(\"Insurance.csv\",inferSchema=True,header=True)"
      ],
      "id": "320141bc",
      "execution_count": null,
      "outputs": []
    },
    {
      "cell_type": "code",
      "metadata": {
        "id": "42e38584",
        "outputId": "02190039-26ed-4ef2-cee5-57b70348567c"
      },
      "source": [
        "dataset.show()"
      ],
      "id": "42e38584",
      "execution_count": null,
      "outputs": [
        {
          "name": "stdout",
          "output_type": "stream",
          "text": [
            "+---+------+------+--------+------+---------+-----------+\n",
            "|age|   sex|   bmi|children|smoker|   region|    charges|\n",
            "+---+------+------+--------+------+---------+-----------+\n",
            "| 19|female|  27.9|       0|   yes|southwest|  16884.924|\n",
            "| 18|  male| 33.77|       1|    no|southeast|  1725.5523|\n",
            "| 28|  male|  33.0|       3|    no|southeast|   4449.462|\n",
            "| 33|  male|22.705|       0|    no|northwest|21984.47061|\n",
            "| 32|  male| 28.88|       0|    no|northwest|  3866.8552|\n",
            "| 31|female| 25.74|       0|    no|southeast|  3756.6216|\n",
            "| 46|female| 33.44|       1|    no|southeast|  8240.5896|\n",
            "| 37|female| 27.74|       3|    no|northwest|  7281.5056|\n",
            "| 37|  male| 29.83|       2|    no|northeast|  6406.4107|\n",
            "| 60|female| 25.84|       0|    no|northwest|28923.13692|\n",
            "| 25|  male| 26.22|       0|    no|northeast|  2721.3208|\n",
            "| 62|female| 26.29|       0|   yes|southeast| 27808.7251|\n",
            "| 23|  male|  34.4|       0|    no|southwest|   1826.843|\n",
            "| 56|female| 39.82|       0|    no|southeast| 11090.7178|\n",
            "| 27|  male| 42.13|       0|   yes|southeast| 39611.7577|\n",
            "| 19|  male|  24.6|       1|    no|southwest|   1837.237|\n",
            "| 52|female| 30.78|       1|    no|northeast| 10797.3362|\n",
            "| 23|  male|23.845|       0|    no|northeast| 2395.17155|\n",
            "| 56|  male|  40.3|       0|    no|southwest|  10602.385|\n",
            "| 30|  male|  35.3|       0|   yes|southwest|  36837.467|\n",
            "+---+------+------+--------+------+---------+-----------+\n",
            "only showing top 20 rows\n",
            "\n"
          ]
        }
      ]
    },
    {
      "cell_type": "code",
      "metadata": {
        "id": "cc80ce29",
        "outputId": "a593b327-ab2a-4a8d-a8a5-f420eafe2f91"
      },
      "source": [
        "dataset.printSchema()"
      ],
      "id": "cc80ce29",
      "execution_count": null,
      "outputs": [
        {
          "name": "stdout",
          "output_type": "stream",
          "text": [
            "root\n",
            " |-- age: integer (nullable = true)\n",
            " |-- sex: string (nullable = true)\n",
            " |-- bmi: double (nullable = true)\n",
            " |-- children: integer (nullable = true)\n",
            " |-- smoker: string (nullable = true)\n",
            " |-- region: string (nullable = true)\n",
            " |-- charges: double (nullable = true)\n",
            "\n"
          ]
        }
      ]
    },
    {
      "cell_type": "code",
      "metadata": {
        "id": "88961bd5"
      },
      "source": [
        "from pyspark.ml.linalg import Vectors\n",
        "from pyspark.ml.feature import VectorAssembler\n",
        "from pyspark.ml.feature import StringIndexer"
      ],
      "id": "88961bd5",
      "execution_count": null,
      "outputs": []
    },
    {
      "cell_type": "code",
      "metadata": {
        "id": "30aaee73"
      },
      "source": [
        "indexers = [StringIndexer(inputCol=\"Sex\", outputCol=\"Sex2\") , \n",
        "            StringIndexer(inputCol=\"smoker\", outputCol=\"smoker2\"),\n",
        "            StringIndexer(inputCol=\"region\", outputCol=\"region2\")\n",
        "           ]"
      ],
      "id": "30aaee73",
      "execution_count": null,
      "outputs": []
    },
    {
      "cell_type": "code",
      "metadata": {
        "id": "502b98e5"
      },
      "source": [
        "from pyspark.ml import Pipeline"
      ],
      "id": "502b98e5",
      "execution_count": null,
      "outputs": []
    },
    {
      "cell_type": "code",
      "metadata": {
        "id": "ce1af8c3",
        "outputId": "0727c63c-fd6d-47bf-e95a-96c557c7395b"
      },
      "source": [
        "pipeline = Pipeline(stages=indexers)\n",
        "DF6 = pipeline.fit(dataset).transform(dataset)\n",
        "\n",
        "DF6.show()"
      ],
      "id": "ce1af8c3",
      "execution_count": null,
      "outputs": [
        {
          "name": "stdout",
          "output_type": "stream",
          "text": [
            "+---+------+------+--------+------+---------+-----------+----+-------+-------+\n",
            "|age|   sex|   bmi|children|smoker|   region|    charges|Sex2|smoker2|region2|\n",
            "+---+------+------+--------+------+---------+-----------+----+-------+-------+\n",
            "| 19|female|  27.9|       0|   yes|southwest|  16884.924| 1.0|    1.0|    2.0|\n",
            "| 18|  male| 33.77|       1|    no|southeast|  1725.5523| 0.0|    0.0|    0.0|\n",
            "| 28|  male|  33.0|       3|    no|southeast|   4449.462| 0.0|    0.0|    0.0|\n",
            "| 33|  male|22.705|       0|    no|northwest|21984.47061| 0.0|    0.0|    1.0|\n",
            "| 32|  male| 28.88|       0|    no|northwest|  3866.8552| 0.0|    0.0|    1.0|\n",
            "| 31|female| 25.74|       0|    no|southeast|  3756.6216| 1.0|    0.0|    0.0|\n",
            "| 46|female| 33.44|       1|    no|southeast|  8240.5896| 1.0|    0.0|    0.0|\n",
            "| 37|female| 27.74|       3|    no|northwest|  7281.5056| 1.0|    0.0|    1.0|\n",
            "| 37|  male| 29.83|       2|    no|northeast|  6406.4107| 0.0|    0.0|    3.0|\n",
            "| 60|female| 25.84|       0|    no|northwest|28923.13692| 1.0|    0.0|    1.0|\n",
            "| 25|  male| 26.22|       0|    no|northeast|  2721.3208| 0.0|    0.0|    3.0|\n",
            "| 62|female| 26.29|       0|   yes|southeast| 27808.7251| 1.0|    1.0|    0.0|\n",
            "| 23|  male|  34.4|       0|    no|southwest|   1826.843| 0.0|    0.0|    2.0|\n",
            "| 56|female| 39.82|       0|    no|southeast| 11090.7178| 1.0|    0.0|    0.0|\n",
            "| 27|  male| 42.13|       0|   yes|southeast| 39611.7577| 0.0|    1.0|    0.0|\n",
            "| 19|  male|  24.6|       1|    no|southwest|   1837.237| 0.0|    0.0|    2.0|\n",
            "| 52|female| 30.78|       1|    no|northeast| 10797.3362| 1.0|    0.0|    3.0|\n",
            "| 23|  male|23.845|       0|    no|northeast| 2395.17155| 0.0|    0.0|    3.0|\n",
            "| 56|  male|  40.3|       0|    no|southwest|  10602.385| 0.0|    0.0|    2.0|\n",
            "| 30|  male|  35.3|       0|   yes|southwest|  36837.467| 0.0|    1.0|    2.0|\n",
            "+---+------+------+--------+------+---------+-----------+----+-------+-------+\n",
            "only showing top 20 rows\n",
            "\n"
          ]
        }
      ]
    },
    {
      "cell_type": "code",
      "metadata": {
        "id": "2ff346cf"
      },
      "source": [
        "drop_list =[\"sex\",\"smoker\",\"region\",\"children\",\"region2\"]\n",
        "data = DF6.select([column for column in DF6.columns if column not in drop_list])"
      ],
      "id": "2ff346cf",
      "execution_count": null,
      "outputs": []
    },
    {
      "cell_type": "code",
      "metadata": {
        "id": "92c07d46",
        "outputId": "696644ce-e1b2-438c-b7c1-df5497686918"
      },
      "source": [
        "data.show()"
      ],
      "id": "92c07d46",
      "execution_count": null,
      "outputs": [
        {
          "name": "stdout",
          "output_type": "stream",
          "text": [
            "+---+------+-----------+----+-------+\n",
            "|age|   bmi|    charges|Sex2|smoker2|\n",
            "+---+------+-----------+----+-------+\n",
            "| 19|  27.9|  16884.924| 1.0|    1.0|\n",
            "| 18| 33.77|  1725.5523| 0.0|    0.0|\n",
            "| 28|  33.0|   4449.462| 0.0|    0.0|\n",
            "| 33|22.705|21984.47061| 0.0|    0.0|\n",
            "| 32| 28.88|  3866.8552| 0.0|    0.0|\n",
            "| 31| 25.74|  3756.6216| 1.0|    0.0|\n",
            "| 46| 33.44|  8240.5896| 1.0|    0.0|\n",
            "| 37| 27.74|  7281.5056| 1.0|    0.0|\n",
            "| 37| 29.83|  6406.4107| 0.0|    0.0|\n",
            "| 60| 25.84|28923.13692| 1.0|    0.0|\n",
            "| 25| 26.22|  2721.3208| 0.0|    0.0|\n",
            "| 62| 26.29| 27808.7251| 1.0|    1.0|\n",
            "| 23|  34.4|   1826.843| 0.0|    0.0|\n",
            "| 56| 39.82| 11090.7178| 1.0|    0.0|\n",
            "| 27| 42.13| 39611.7577| 0.0|    1.0|\n",
            "| 19|  24.6|   1837.237| 0.0|    0.0|\n",
            "| 52| 30.78| 10797.3362| 1.0|    0.0|\n",
            "| 23|23.845| 2395.17155| 0.0|    0.0|\n",
            "| 56|  40.3|  10602.385| 0.0|    0.0|\n",
            "| 30|  35.3|  36837.467| 0.0|    1.0|\n",
            "+---+------+-----------+----+-------+\n",
            "only showing top 20 rows\n",
            "\n"
          ]
        }
      ]
    },
    {
      "cell_type": "code",
      "metadata": {
        "id": "d7c3facb"
      },
      "source": [
        "assembler = VectorAssembler(inputCols=[\"age\",\"bmi\",\"Sex2\",\"smoker2\"],outputCol=\"feature\")"
      ],
      "id": "d7c3facb",
      "execution_count": null,
      "outputs": []
    },
    {
      "cell_type": "code",
      "metadata": {
        "id": "742ffae3"
      },
      "source": [
        "output = assembler.transform(data)"
      ],
      "id": "742ffae3",
      "execution_count": null,
      "outputs": []
    },
    {
      "cell_type": "code",
      "metadata": {
        "id": "51ce6491"
      },
      "source": [
        "finnal_df=output.select(\"feature\",\"charges\")"
      ],
      "id": "51ce6491",
      "execution_count": null,
      "outputs": []
    },
    {
      "cell_type": "code",
      "metadata": {
        "id": "596f80ce"
      },
      "source": [
        "train_data,test_data = finnal_df.randomSplit([0.7,0.3])"
      ],
      "id": "596f80ce",
      "execution_count": null,
      "outputs": []
    },
    {
      "cell_type": "code",
      "metadata": {
        "id": "1547a7ec",
        "outputId": "a0166dfa-1444-4c94-b21c-cc00f56a2649"
      },
      "source": [
        "train_data.show()"
      ],
      "id": "1547a7ec",
      "execution_count": null,
      "outputs": [
        {
          "name": "stdout",
          "output_type": "stream",
          "text": [
            "+--------------------+-----------+\n",
            "|             feature|    charges|\n",
            "+--------------------+-----------+\n",
            "|[18.0,15.96,0.0,0.0]|  1694.7964|\n",
            "|[18.0,17.29,0.0,1.0]| 12829.4551|\n",
            "|[18.0,21.47,0.0,0.0]|  1702.4553|\n",
            "|[18.0,21.565,0.0,...|13747.87235|\n",
            "|[18.0,21.66,1.0,1.0]| 14283.4594|\n",
            "|[18.0,21.78,0.0,0.0]|11884.04858|\n",
            "|[18.0,23.085,0.0,...| 1704.70015|\n",
            "|[18.0,23.32,0.0,0.0]|  1711.0268|\n",
            "|[18.0,23.75,0.0,0.0]|  1705.6245|\n",
            "|[18.0,25.08,1.0,0.0]|  2196.4732|\n",
            "|[18.0,25.175,0.0,...|15518.18025|\n",
            "|[18.0,26.125,0.0,...| 1708.92575|\n",
            "|[18.0,26.18,0.0,0.0]|  2304.0022|\n",
            "|[18.0,26.315,1.0,...| 2198.18985|\n",
            "|[18.0,27.28,1.0,1.0]| 18223.4512|\n",
            "|[18.0,27.36,0.0,1.0]| 17178.6824|\n",
            "|[18.0,28.215,1.0,...| 2200.83085|\n",
            "|[18.0,28.31,0.0,0.0]|11272.33139|\n",
            "| [18.0,28.5,0.0,0.0]|   1712.227|\n",
            "|[18.0,29.165,1.0,...|7323.734819|\n",
            "+--------------------+-----------+\n",
            "only showing top 20 rows\n",
            "\n"
          ]
        }
      ]
    },
    {
      "cell_type": "code",
      "metadata": {
        "id": "4f3f7a43",
        "outputId": "37b21690-78ce-4f02-e6a1-86f24d58e606"
      },
      "source": [
        "train_data.describe().show()"
      ],
      "id": "4f3f7a43",
      "execution_count": null,
      "outputs": [
        {
          "name": "stdout",
          "output_type": "stream",
          "text": [
            "+-------+------------------+\n",
            "|summary|           charges|\n",
            "+-------+------------------+\n",
            "|  count|               936|\n",
            "|   mean|12999.827788748924|\n",
            "| stddev|11932.382452084874|\n",
            "|    min|         1131.5066|\n",
            "|    max|       60021.39897|\n",
            "+-------+------------------+\n",
            "\n"
          ]
        }
      ]
    },
    {
      "cell_type": "code",
      "metadata": {
        "id": "4874f33c"
      },
      "source": [
        "from pyspark.ml.regression import LinearRegression"
      ],
      "id": "4874f33c",
      "execution_count": null,
      "outputs": []
    },
    {
      "cell_type": "code",
      "metadata": {
        "id": "abccd89b"
      },
      "source": [
        "lm = LinearRegression(featuresCol=\"feature\",labelCol=\"charges\")"
      ],
      "id": "abccd89b",
      "execution_count": null,
      "outputs": []
    },
    {
      "cell_type": "code",
      "metadata": {
        "id": "3582c4e7"
      },
      "source": [
        "regressor=lm.fit(train_data)"
      ],
      "id": "3582c4e7",
      "execution_count": null,
      "outputs": []
    },
    {
      "cell_type": "code",
      "metadata": {
        "id": "c3dd5381",
        "outputId": "6f75f2f0-f902-48cb-d73c-6db6763ad688"
      },
      "source": [
        "coefficient = regressor.coefficients\n",
        "print (\"The coefficients of the model are : %a\" %coefficient)"
      ],
      "id": "c3dd5381",
      "execution_count": null,
      "outputs": [
        {
          "name": "stdout",
          "output_type": "stream",
          "text": [
            "The coefficients of the model are : DenseVector([269.6497, 276.0702, 159.8231, 24122.8753])\n"
          ]
        }
      ]
    },
    {
      "cell_type": "code",
      "metadata": {
        "id": "44e231a7",
        "outputId": "a98876a5-1b16-4d44-fea4-b34a3cf9e439"
      },
      "source": [
        "intercept = regressor.intercept\n",
        "print (\"The Intercept of the model is : %f\" %intercept)"
      ],
      "id": "44e231a7",
      "execution_count": null,
      "outputs": [
        {
          "name": "stdout",
          "output_type": "stream",
          "text": [
            "The Intercept of the model is : -10840.355189\n"
          ]
        }
      ]
    },
    {
      "cell_type": "code",
      "metadata": {
        "id": "86291045",
        "outputId": "85e34384-d581-46c3-ea92-d6f42f214f6b"
      },
      "source": [
        "pred_results=regressor.evaluate(test_data)\n",
        "pred_results.predictions.show(40)"
      ],
      "id": "86291045",
      "execution_count": null,
      "outputs": [
        {
          "name": "stderr",
          "output_type": "stream",
          "text": [
            "/Users/azmatsiddique/opt/anaconda3/lib/python3.8/site-packages/pyspark/sql/context.py:125: FutureWarning: Deprecated in 3.0.0. Use SparkSession.builder.getOrCreate() instead.\n",
            "  warnings.warn(\n"
          ]
        },
        {
          "name": "stdout",
          "output_type": "stream",
          "text": [
            "+--------------------+-----------+-------------------+\n",
            "|             feature|    charges|         prediction|\n",
            "+--------------------+-----------+-------------------+\n",
            "|[18.0,20.79,1.0,0.0]|  1607.5101| -87.33913075220335|\n",
            "|[18.0,22.99,0.0,0.0]|  1704.5681| 360.19219656077075|\n",
            "|[18.0,23.21,0.0,0.0]|  1121.8739| 420.92763756006934|\n",
            "|[18.0,24.09,1.0,0.0]|  2201.0971|  823.6924842372864|\n",
            "|[18.0,25.46,0.0,0.0]|  1708.0014|  1042.085556871085|\n",
            "|[18.0,26.73,1.0,0.0]|  1615.7667| 1552.5177762288768|\n",
            "|[18.0,30.03,0.0,0.0]|  1720.3537| 2303.7263085383474|\n",
            "|[18.0,30.115,1.0,...| 2203.47185| 2487.0153570590046|\n",
            "|[18.0,30.115,1.0,...| 21344.8467| 2487.0153570590046|\n",
            "|[18.0,31.13,1.0,0.0]|  1621.8827| 2767.2265962148595|\n",
            "|[18.0,31.68,0.0,1.0]| 34303.1672| 26882.117418151647|\n",
            "|[18.0,33.66,0.0,0.0]|  1136.3994| 3305.8610850267814|\n",
            "| [18.0,34.1,0.0,0.0]|   1137.011| 3427.3319670253823|\n",
            "| [18.0,35.2,0.0,0.0]|    1727.54|  3731.009172021879|\n",
            "|[18.0,36.85,1.0,0.0]|  1629.8335|  4346.348062196641|\n",
            "|[18.0,37.29,0.0,0.0]|  1141.4451|  4307.995861515219|\n",
            "|[18.0,38.17,0.0,1.0]| 36307.7983| 28673.812927630977|\n",
            "|[18.0,38.28,1.0,0.0]|14133.03775|  4741.128428692085|\n",
            "|[18.0,39.14,0.0,0.0]|12890.05765|  4818.725706282055|\n",
            "|[18.0,39.82,1.0,0.0]|  1633.9618|  5166.276515687183|\n",
            "|[18.0,53.13,0.0,0.0]|  1163.4627|  8680.947613464765|\n",
            "| [19.0,17.8,1.0,0.0]|   1727.785| -643.1393323469256|\n",
            "| [19.0,18.6,1.0,0.0]|   1728.897|-422.28318325856526|\n",
            "| [19.0,20.6,1.0,0.0]|   1731.677| 129.85718946233828|\n",
            "| [19.0,20.7,0.0,0.0]|   1242.816|-2.3588745816359733|\n",
            "|[19.0,22.515,1.0,...| 2117.33885|  658.5315963426001|\n",
            "|[19.0,22.61,0.0,0.0]|  1628.4709|  524.9351813668236|\n",
            "|[19.0,25.175,0.0,...| 1632.03625| 1233.0552093813803|\n",
            "|[19.0,27.265,0.0,...|22493.65964| 1810.0418988747242|\n",
            "| [19.0,27.9,1.0,1.0]|  16884.924| 26268.044852012186|\n",
            "|[19.0,28.31,1.0,1.0]| 17468.9839| 26381.233628419977|\n",
            "| [19.0,28.6,1.0,0.0]|   4687.797|  2338.418680345945|\n",
            "|[19.0,28.88,1.0,1.0]| 17748.5062| 26538.593634645433|\n",
            "|[19.0,29.07,0.0,1.0]| 17352.6803| 26431.223887373897|\n",
            "|[19.0,30.02,1.0,1.0]| 33307.5508| 26853.313647096344|\n",
            "|[19.0,30.59,0.0,0.0]|  1639.5631|  2727.975268523225|\n",
            "|[19.0,31.825,1.0,...| 2719.27975| 3228.7450313584013|\n",
            "|[19.0,32.49,1.0,1.0]|36898.73308| 27535.207007406658|\n",
            "| [19.0,34.4,0.0,0.0]|   1261.859| 3779.8026785565435|\n",
            "| [19.0,34.7,1.0,1.0]|  36397.576| 28145.322119263255|\n",
            "+--------------------+-----------+-------------------+\n",
            "only showing top 40 rows\n",
            "\n"
          ]
        }
      ]
    },
    {
      "cell_type": "code",
      "metadata": {
        "id": "be905b1b"
      },
      "source": [
        "from pyspark.ml.evaluation import RegressionEvaluator\n",
        "evaluation = RegressionEvaluator(labelCol=\"charges\", predictionCol=\"prediction\")"
      ],
      "id": "be905b1b",
      "execution_count": null,
      "outputs": []
    },
    {
      "cell_type": "code",
      "metadata": {
        "id": "656d872c",
        "outputId": "eea25083-a826-449f-c173-fbd46e3d87ce"
      },
      "source": [
        "r2 = evaluation.evaluate(pred_results.predictions, {evaluation.metricName: \"r2\"})\n",
        "print(\"r2: %.3f\" %r2)"
      ],
      "id": "656d872c",
      "execution_count": null,
      "outputs": [
        {
          "name": "stdout",
          "output_type": "stream",
          "text": [
            "r2: 0.711\n"
          ]
        }
      ]
    },
    {
      "cell_type": "code",
      "metadata": {
        "id": "da3e263d"
      },
      "source": [
        ""
      ],
      "id": "da3e263d",
      "execution_count": null,
      "outputs": []
    }
  ]
}